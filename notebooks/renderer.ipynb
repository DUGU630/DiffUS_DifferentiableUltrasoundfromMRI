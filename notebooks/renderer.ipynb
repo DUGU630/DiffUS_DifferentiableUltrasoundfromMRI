{
 "cells": [
  {
   "cell_type": "code",
   "execution_count": 1,
   "id": "f62ec9f6",
   "metadata": {},
   "outputs": [],
   "source": [
    "%load_ext autoreload\n",
    "%autoreload 2"
   ]
  },
  {
   "cell_type": "code",
   "execution_count": 2,
   "id": "56a29c36",
   "metadata": {},
   "outputs": [],
   "source": [
    "import os\n",
    "os.environ[\"KMP_DUPLICATE_LIB_OK\"] = \"TRUE\"\n"
   ]
  },
  {
   "cell_type": "code",
   "execution_count": null,
   "id": "8e66ba8d",
   "metadata": {},
   "outputs": [
    {
     "name": "stderr",
     "output_type": "stream",
     "text": [
      "c:\\Users\\noe\\anaconda3\\envs\\torchIO\\Lib\\site-packages\\tqdm\\auto.py:21: TqdmWarning: IProgress not found. Please update jupyter and ipywidgets. See https://ipywidgets.readthedocs.io/en/stable/user_install.html\n",
      "  from .autonotebook import tqdm as notebook_tqdm\n"
     ]
    }
   ],
   "source": [
    "import sys\n",
    "import pathlib\n",
    "\n",
    "PROJECT_ROOT = pathlib.Path().cwd().parent\n",
    "sys.path.append(str(PROJECT_ROOT))\n",
    "\n",
    "import torch.nn.functional as F\n",
    "from src.utils import *\n",
    "from src.datatype import *\n",
    "\n",
    "image_path = PROJECT_ROOT / 'ReMIND2Reg_dataset' / 'imagesTr'"
   ]
  },
  {
   "cell_type": "code",
   "execution_count": 4,
   "id": "8a869049",
   "metadata": {},
   "outputs": [],
   "source": [
    "patient_id = \"003\" # between 000 and 102, t1 and t2 don't exist for all patients\n",
    "iUS_file = f\"ReMIND2Reg_0{patient_id}_0000.nii.gz\"\n",
    "t1_file = f\"ReMIND2Reg_0{patient_id}_0001.nii.gz\"\n",
    "t2_file = f\"ReMIND2Reg_0{patient_id}_0002.nii.gz\""
   ]
  },
  {
   "cell_type": "code",
   "execution_count": 5,
   "id": "3cfc2fd4",
   "metadata": {},
   "outputs": [],
   "source": [
    "dataset = MRIDataset([image_path / t1_file], \"T1\", axis=0)"
   ]
  },
  {
   "cell_type": "markdown",
   "id": "6d062b6a",
   "metadata": {},
   "source": [
    "## Play with rendering"
   ]
  },
  {
   "cell_type": "code",
   "execution_count": 69,
   "id": "f2090d3f",
   "metadata": {},
   "outputs": [],
   "source": [
    "def trace_ray(\n",
    "    volume: torch.Tensor,\n",
    "    source: torch.Tensor,\n",
    "    direction: torch.Tensor,\n",
    "    num_samples: int\n",
    ") -> torch.Tensor:\n",
    "    \"\"\"\n",
    "    Trace a ray through a 3D volume and sample intensity values.\n",
    "\n",
    "    Args:\n",
    "        volume (torch.Tensor): 3D volume of shape (D, H, W).\n",
    "        source (torch.Tensor): Starting point of the ray (x, y, z).\n",
    "        direction (torch.Tensor): Direction of the ray (dx, dy, dz).\n",
    "        num_samples (int): Number of samples to take along the ray.\n",
    "\n",
    "    Returns:\n",
    "        torch.Tensor: Sampled intensity values along the ray.\n",
    "    \"\"\"\n",
    "    # Get volume dimensions      \n",
    "\n",
    "    volume = (volume - volume.min()) / (volume.max() - volume.min())\n",
    "    D, H, W = volume.shape\n",
    "\n",
    "    # Normalize direction\n",
    "    direction = torch.tensor(direction, dtype=torch.float32)\n",
    "    direction = direction / direction.norm()\n",
    "\n",
    "    # Compute points along the ray\n",
    "    source = torch.tensor(source, dtype=torch.float32)\n",
    "    steps = torch.arange(0, num_samples, dtype=torch.float32).unsqueeze(1)\n",
    "    points = source + steps * direction  # (num_samples, 3)\n",
    "\n",
    "    # Normalize to [-1, 1] for grid_sample\n",
    "    grid = torch.empty_like(points)\n",
    "    grid[:, 0] = 2 * (points[:, 2] / max(D - 1, 1)) - 1  # z → x\n",
    "    grid[:, 1] = 2 * (points[:, 1] / max(H - 1, 1)) - 1  # y → y\n",
    "    grid[:, 2] = 2 * (points[:, 0] / max(W - 1, 1)) - 1  # x → z\n",
    "    grid = grid.view(1, num_samples, 1, 1, 3)  # (N, D_out, H_out, W_out, 3)\n",
    "\n",
    "    # Prepare volume for grid_sample: (N, C, D, H, W)\n",
    "    volume = volume.unsqueeze(0).unsqueeze(0)  # (1, 1, D, H, W)\n",
    "\n",
    "    # Sample\n",
    "    ray_values = F.grid_sample(volume, grid, align_corners=True, mode='bilinear').squeeze()\n",
    "\n",
    "    return ray_values"
   ]
  },
  {
   "cell_type": "code",
   "execution_count": 82,
   "id": "7077e9ad",
   "metadata": {},
   "outputs": [],
   "source": [
    "def trace_rays(volume, sources, direction, num_samples):\n",
    "    \"\"\"\n",
    "    Trace multiple rays from a set of sources in the same direction.\n",
    "\n",
    "    Args:\n",
    "        volume (torch.Tensor): (D, H, W)\n",
    "        sources (torch.Tensor): (N, 3) source points\n",
    "        direction (tuple or torch.Tensor): (dx, dy, dz)\n",
    "        num_samples (int): Number of steps per ray\n",
    "\n",
    "    Returns:\n",
    "        torch.Tensor: (N, num_samples) intensity values for each ray\n",
    "    \"\"\"\n",
    "    all_profiles = []\n",
    "    for src in sources:\n",
    "        profile = trace_ray(volume, src, direction, num_samples)\n",
    "        all_profiles.append(profile)\n",
    "    return torch.stack(all_profiles)  # (N, num_samples)\n",
    "\n",
    "def compute_value(ray):\n",
    "    \"\"\"\n",
    "    Compute the value of a ray using the trapezoidal rule.\n",
    "\n",
    "    Args:\n",
    "        ray (torch.Tensor): Intensity values along the ray.\n",
    "\n",
    "    Returns:\n",
    "        float: Computed value.\n",
    "    \"\"\"\n",
    "    # Compute the value using the trapezoidal rule\n",
    "    return torch.trapz(ray, dim=0).item() \n"
   ]
  },
  {
   "cell_type": "code",
   "execution_count": 93,
   "id": "2b12d548",
   "metadata": {},
   "outputs": [
    {
     "name": "stderr",
     "output_type": "stream",
     "text": [
      "C:\\Users\\noe\\AppData\\Local\\Temp\\ipykernel_23664\\1835963857.py:29: UserWarning:\n",
      "\n",
      "To copy construct from a tensor, it is recommended to use sourceTensor.clone().detach() or sourceTensor.clone().detach().requires_grad_(True), rather than torch.tensor(sourceTensor).\n",
      "\n"
     ]
    },
    {
     "data": {
      "image/png": "[encoded data removed]",
      "text/plain": [
       "<Figure size 640x480 with 2 Axes>"
      ]
     },
     "metadata": {},
     "output_type": "display_data"
    }
   ],
   "source": [
    "sample = dataset[0]\n",
    "\n",
    "volume = sample['image'].squeeze(0)\n",
    "\n",
    "direction = (0, 0, 1)\n",
    "x_center, y_center, z_center = 80, 20, 0\n",
    "x_range = range(x_center - 10, x_center + 50)\n",
    "y_range = range(y_center - 20, y_center + 40)\n",
    "\n",
    "sources = torch.tensor(\n",
    "    [[x, y, z_center] for x in x_range for y in y_range], dtype=torch.float32\n",
    ")\n",
    "\n",
    "profiles = trace_rays(volume, sources, direction, num_samples=300)\n",
    "\n",
    "# Compute the value of each ray\n",
    "values = [compute_value(ray) for ray in profiles]\n",
    "\n",
    "# Reshape values to match the grid size\n",
    "values_grid = torch.tensor(values).view(len(x_range), len(y_range))\n",
    "\n",
    "plt.imshow(values_grid.numpy(), cmap='gray', origin='lower')\n",
    "plt.title(\"Intensity Projection\")\n",
    "plt.xlabel(\"X-axis\")\n",
    "plt.ylabel(\"Y-axis\")\n",
    "plt.colorbar(label=\"Intensity\")\n",
    "plt.show()"
   ]
  },
  {
   "cell_type": "code",
   "execution_count": 75,
   "id": "993a15da",
   "metadata": {},
   "outputs": [
    {
     "name": "stderr",
     "output_type": "stream",
     "text": [
      "C:\\Users\\noe\\AppData\\Local\\Temp\\ipykernel_23664\\1835963857.py:25: UserWarning:\n",
      "\n",
      "To copy construct from a tensor, it is recommended to use sourceTensor.clone().detach() or sourceTensor.clone().detach().requires_grad_(True), rather than torch.tensor(sourceTensor).\n",
      "\n",
      "C:\\Users\\noe\\AppData\\Local\\Temp\\ipykernel_23664\\1835963857.py:29: UserWarning:\n",
      "\n",
      "To copy construct from a tensor, it is recommended to use sourceTensor.clone().detach() or sourceTensor.clone().detach().requires_grad_(True), rather than torch.tensor(sourceTensor).\n",
      "\n"
     ]
    },
    {
     "ename": "TypeError",
     "evalue": "expected Tensor as element 1 in argument 0, but got list",
     "output_type": "error",
     "traceback": [
      "\u001b[31m---------------------------------------------------------------------------\u001b[39m",
      "\u001b[31mTypeError\u001b[39m                                 Traceback (most recent call last)",
      "\u001b[36mCell\u001b[39m\u001b[36m \u001b[39m\u001b[32mIn[75]\u001b[39m\u001b[32m, line 5\u001b[39m\n\u001b[32m      2\u001b[39m \u001b[38;5;28;01mfor\u001b[39;00m sources \u001b[38;5;129;01min\u001b[39;00m [[\u001b[32m0\u001b[39m,\u001b[32m0\u001b[39m,i] \u001b[38;5;28;01mfor\u001b[39;00m i \u001b[38;5;129;01min\u001b[39;00m \u001b[38;5;28mrange\u001b[39m(\u001b[32m0\u001b[39m, \u001b[32m100\u001b[39m, \u001b[32m10\u001b[39m)]:\n\u001b[32m      4\u001b[39m     ray_values = trace_ray(volume, source, direction, num_samples)\n\u001b[32m----> \u001b[39m\u001b[32m5\u001b[39m     big_ray = \u001b[43mtorch\u001b[49m\u001b[43m.\u001b[49m\u001b[43mcat\u001b[49m\u001b[43m(\u001b[49m\u001b[43m(\u001b[49m\u001b[43mbig_ray\u001b[49m\u001b[43m,\u001b[49m\u001b[43m \u001b[49m\u001b[43m[\u001b[49m\u001b[43mray_values\u001b[49m\u001b[43m]\u001b[49m\u001b[43m)\u001b[49m\u001b[43m,\u001b[49m\u001b[43m \u001b[49m\u001b[43mdim\u001b[49m\u001b[43m=\u001b[49m\u001b[32;43m0\u001b[39;49m\u001b[43m)\u001b[49m\n\u001b[32m      8\u001b[39m plt.plot(big_ray.cpu().numpy())\n\u001b[32m      9\u001b[39m plt.title(\u001b[33m\"\u001b[39m\u001b[33mIntensity Profile Along Ray\u001b[39m\u001b[33m\"\u001b[39m)\n",
      "\u001b[31mTypeError\u001b[39m: expected Tensor as element 1 in argument 0, but got list"
     ]
    }
   ],
   "source": [
    "big_ray = trace_ray(volume, source, direction, num_samples)\n",
    "for sources in [[0,0,i] for i in range(0, 100, 10)]:\n",
    "\n",
    "    ray_values = trace_ray(volume, source, direction, num_samples)\n",
    "    big_ray = torch.cat((big_ray, [ray_values]), dim=0)\n",
    "    \n",
    "\n",
    "plt.plot(big_ray.cpu().numpy())\n",
    "plt.title(\"Intensity Profile Along Ray\")\n",
    "plt.xlabel(\"Step\")\n",
    "plt.ylabel(\"Intensity\")\n",
    "plt.grid(True)\n",
    "plt.show()"
   ]
  }
 ],
 "metadata": {
  "kernelspec": {
   "display_name": "torchIO",
   "language": "python",
   "name": "python3"
  },
  "language_info": {
   "codemirror_mode": {
    "name": "ipython",
    "version": 3
   },
   "file_extension": ".py",
   "mimetype": "text/x-python",
   "name": "python",
   "nbconvert_exporter": "python",
   "pygments_lexer": "ipython3",
   "version": "3.12.9"
  }
 },
 "nbformat": 4,
 "nbformat_minor": 5
}
