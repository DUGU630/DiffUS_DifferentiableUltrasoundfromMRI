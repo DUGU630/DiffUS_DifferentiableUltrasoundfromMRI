{
 "cells": [
  {
   "cell_type": "code",
   "execution_count": 1,
   "id": "e39d6395",
   "metadata": {},
   "outputs": [],
   "source": [
    "%load_ext autoreload\n",
    "%autoreload 2"
   ]
  },
  {
   "cell_type": "code",
   "execution_count": 14,
   "id": "c3893416",
   "metadata": {},
   "outputs": [],
   "source": [
    "import sys\n",
    "import pathlib\n",
    "\n",
    "PROJECT_ROOT = pathlib.Path().cwd().parent\n",
    "sys.path.append(str(PROJECT_ROOT))\n",
    "\n",
    "image_path = PROJECT_ROOT / 'ReMIND2Reg_dataset' / 'imagesTr'\n",
    "\n",
    "from src.utils import *\n",
    "from src.datatype import MRIDataset\n",
    "from src.renderer import UltrasoundRenderer\n",
    "\n",
    "import numpy as np\n",
    "import pandas as pd\n",
    "import matplotlib.pyplot as plt\n",
    "import nibabel as nib\n",
    "import torch\n",
    "import torch.nn.functional as F"
   ]
  },
  {
   "cell_type": "code",
   "execution_count": 7,
   "id": "34cfea18",
   "metadata": {},
   "outputs": [
    {
     "name": "stdout",
     "output_type": "stream",
     "text": [
      "Image shape: (256, 256, 256)\n"
     ]
    }
   ],
   "source": [
    "patient_id = \"003\" # between 000 and 102, t1 and t2 don't exist for all patients\n",
    "iUS_file = f\"ReMIND2Reg_0{patient_id}_0000.nii.gz\"\n",
    "t1_file = f\"ReMIND2Reg_0{patient_id}_0001.nii.gz\"\n",
    "t2_file = f\"ReMIND2Reg_0{patient_id}_0002.nii.gz\"\n",
    "\n",
    "# Load the NIfTI file\n",
    "img_iUS = nib.load(image_path / iUS_file)\n",
    "img_t1 = nib.load(image_path / t1_file)\n",
    "img_t2 = nib.load(image_path / t2_file)\n",
    "\n",
    "# Extract image data as a numpy array\n",
    "img_iUS_data = img_iUS.get_fdata()\n",
    "img_t1_data = img_t1.get_fdata()\n",
    "img_t2_data = img_t2.get_fdata()\n",
    "print(\"Image shape:\", img_iUS_data.shape)\n",
    "\n",
    "slice_idx = img_iUS_data.shape[2] // 2\n",
    "\n",
    "# plt.imshow(img_iUS_data[:, :, slice_idx], cmap=\"gray\")\n",
    "# plt.title(f\"Slice {slice_idx} of the iUS volume\")\n",
    "# plt.axis(\"off\")\n",
    "# plt.show()\n",
    "\n",
    "# plt.imshow(img_t1_data[:, :, slice_idx], cmap=\"gray\")\n",
    "# plt.title(f\"Slice {slice_idx} of the MRI T1 volume\")\n",
    "# plt.axis(\"off\")\n",
    "# plt.show()\n",
    "\n",
    "# plt.imshow(img_t2_data[:, :, slice_idx], cmap=\"gray\")\n",
    "# plt.title(f\"Slice {slice_idx} of the MRI T2 volume\")\n",
    "# plt.axis(\"off\")\n",
    "# plt.show()"
   ]
  },
  {
   "cell_type": "code",
   "execution_count": 11,
   "id": "b797582e",
   "metadata": {},
   "outputs": [],
   "source": [
    "patient_id = \"003\" # between 000 and 102, t1 and t2 don't exist for all patients\n",
    "iUS_file = f\"ReMIND2Reg_0{patient_id}_0000.nii.gz\"\n",
    "t1_file = f\"ReMIND2Reg_0{patient_id}_0001.nii.gz\"\n",
    "t2_file = f\"ReMIND2Reg_0{patient_id}_0002.nii.gz\"\n",
    "dataset = MRIDataset([image_path / t1_file], \"T1\", axis=0)"
   ]
  },
  {
   "cell_type": "code",
   "execution_count": null,
   "id": "adb639c6",
   "metadata": {},
   "outputs": [
    {
     "ename": "TypeError",
     "evalue": "arange() received an invalid combination of arguments - got (int, int, dtype=numpy.dtypes.Float32DType), but expected one of:\n * (Number end, *, Tensor out = None, torch.dtype dtype = None, torch.layout layout = None, torch.device device = None, bool pin_memory = False, bool requires_grad = False)\n * (Number start, Number end, *, torch.dtype dtype = None, torch.layout layout = None, torch.device device = None, bool pin_memory = False, bool requires_grad = False)\n * (Number start, Number end, Number step = 1, *, Tensor out = None, torch.dtype dtype = None, torch.layout layout = None, torch.device device = None, bool pin_memory = False, bool requires_grad = False)\n",
     "output_type": "error",
     "traceback": [
      "\u001b[1;31m---------------------------------------------------------------------------\u001b[0m",
      "\u001b[1;31mTypeError\u001b[0m                                 Traceback (most recent call last)",
      "Cell \u001b[1;32mIn[35], line 22\u001b[0m\n\u001b[0;32m     20\u001b[0m \u001b[38;5;66;03m# renderer.plot_frame(frame)\u001b[39;00m\n\u001b[0;32m     21\u001b[0m bmode \u001b[38;5;241m=\u001b[39m renderer\u001b[38;5;241m.\u001b[39mframe_to_bmode(frame)\n\u001b[1;32m---> 22\u001b[0m renderer\u001b[38;5;241m.\u001b[39mplot_sector(bmode, angles, spacing\u001b[38;5;241m=\u001b[39m\u001b[38;5;241m1.0\u001b[39m)\n\u001b[0;32m     23\u001b[0m bmode \u001b[38;5;241m=\u001b[39m renderer\u001b[38;5;241m.\u001b[39mframe_to_bmode(frame)\n\u001b[0;32m     24\u001b[0m renderer\u001b[38;5;241m.\u001b[39mplot_bmode(bmode)\n",
      "File \u001b[1;32mc:\\Users\\g630d\\Documents\\00_Cours\\2024-2025_MIT\\2025 02 Advances in Computer Vision\\Final Project\\DiffUS_DifferentiableUltrasoundfromMRI\\src\\renderer.py:158\u001b[0m, in \u001b[0;36mplot_sector\u001b[1;34m(self, frame, angles, spacing)\u001b[0m\n\u001b[0;32m    156\u001b[0m xs, zs, vals \u001b[38;5;241m=\u001b[39m [], [], []\n\u001b[0;32m    157\u001b[0m \u001b[38;5;28;01mfor\u001b[39;00m i, theta \u001b[38;5;129;01min\u001b[39;00m \u001b[38;5;28menumerate\u001b[39m(angles):\n\u001b[1;32m--> 158\u001b[0m     sin, cos \u001b[38;5;241m=\u001b[39m torch\u001b[38;5;241m.\u001b[39msin(theta), torch\u001b[38;5;241m.\u001b[39mcos(theta)\n\u001b[0;32m    159\u001b[0m     \u001b[38;5;28;01mfor\u001b[39;00m j, r \u001b[38;5;129;01min\u001b[39;00m \u001b[38;5;28menumerate\u001b[39m(depths):\n\u001b[0;32m    160\u001b[0m         xs\u001b[38;5;241m.\u001b[39mappend((r \u001b[38;5;241m*\u001b[39m sin)\u001b[38;5;241m.\u001b[39mitem())\n",
      "\u001b[1;31mTypeError\u001b[0m: arange() received an invalid combination of arguments - got (int, int, dtype=numpy.dtypes.Float32DType), but expected one of:\n * (Number end, *, Tensor out = None, torch.dtype dtype = None, torch.layout layout = None, torch.device device = None, bool pin_memory = False, bool requires_grad = False)\n * (Number start, Number end, *, torch.dtype dtype = None, torch.layout layout = None, torch.device device = None, bool pin_memory = False, bool requires_grad = False)\n * (Number start, Number end, Number step = 1, *, Tensor out = None, torch.dtype dtype = None, torch.layout layout = None, torch.device device = None, bool pin_memory = False, bool requires_grad = False)\n"
     ]
    }
   ],
   "source": [
    "sample = dataset[0]\n",
    "volume = sample[\"image\"].squeeze(0)          # (D,H,W)\n",
    "\n",
    "# set up a fan of rays in the x-z plane (for a 2D slice)\n",
    "N_rays = 128\n",
    "theta_max = 30 * torch.pi / 180             # 30 degrees\n",
    "angles = torch.linspace(-theta_max, theta_max, N_rays)\n",
    "# rays lie in (x,z) plane: [cos, 0, sin]\n",
    "directions = torch.stack([torch.sin(angles),\n",
    "                          torch.zeros_like(angles),\n",
    "                          torch.cos(angles)], dim=1)\n",
    "\n",
    "# choose a source point\n",
    "D, H, W = volume.shape\n",
    "source = torch.tensor([80, 40, 0], dtype=torch.float32)\n",
    "\n",
    "# simulate & plot\n",
    "renderer = UltrasoundRenderer(num_samples=256, attenuation_coeff=0.8)\n",
    "frame = renderer.simulate_frame(volume, source, directions)\n",
    "# renderer.plot_frame(frame)\n",
    "bmode = renderer.frame_to_bmode(frame)\n",
    "renderer.plot_sector(frame, angles, spacing=1.0)\n",
    "renderer.plot_bmode(bmode)\n",
    "renderer.plot_sector_bmode(bmode, angles, spacing=1.0)\n",
    "\n"
   ]
  }
 ],
 "metadata": {
  "kernelspec": {
   "display_name": "base",
   "language": "python",
   "name": "python3"
  },
  "language_info": {
   "codemirror_mode": {
    "name": "ipython",
    "version": 3
   },
   "file_extension": ".py",
   "mimetype": "text/x-python",
   "name": "python",
   "nbconvert_exporter": "python",
   "pygments_lexer": "ipython3",
   "version": "3.12.3"
  }
 },
 "nbformat": 4,
 "nbformat_minor": 5
}
