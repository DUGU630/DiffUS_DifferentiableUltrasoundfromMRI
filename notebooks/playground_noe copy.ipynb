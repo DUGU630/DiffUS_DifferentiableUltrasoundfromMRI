{
 "cells": [
  {
   "cell_type": "code",
   "execution_count": null,
   "id": "c3893416",
   "metadata": {},
   "outputs": [],
   "source": [
    "from datatype import *"
   ]
  },
  {
   "cell_type": "code",
   "execution_count": null,
   "id": "a62f3fd1",
   "metadata": {},
   "outputs": [
    {
     "name": "stdout",
     "output_type": "stream",
     "text": [
      "Image shape: (256, 256, 256)\n"
     ]
    }
   ],
   "source": [
    "import sys\n",
    "import pathlib\n",
    "import nibabel as nib\n",
    "\n",
    "PROJECT_ROOT = pathlib.Path().cwd().parent\n",
    "sys.path.append(str(PROJECT_ROOT))\n",
    "\n",
    "from src.utils import *\n",
    "\n",
    "\n",
    "image_path = PROJECT_ROOT / 'ReMIND2Reg_dataset' / 'imagesTr'\n",
    "\n",
    "patient_id = \"003\" # between 000 and 102, t1 and t2 don't exist for all patients\n",
    "iUS_file = f\"ReMIND2Reg_0{patient_id}_0000.nii.gz\"\n",
    "t1_file = f\"ReMIND2Reg_0{patient_id}_0001.nii.gz\"\n",
    "t2_file = f\"ReMIND2Reg_0{patient_id}_0002.nii.gz\"\n",
    "\n",
    "# Load the NIfTI file\n",
    "img_iUS = nib.load(image_path / iUS_file)\n",
    "img_t1 = nib.load(image_path / t1_file)\n",
    "img_t2 = nib.load(image_path / t2_file)\n",
    "\n",
    "# Extract image data as a numpy array\n",
    "img_iUS_data = img_iUS.get_fdata()\n",
    "img_t1_data = img_t1.get_fdata()\n",
    "img_t2_data = img_t2.get_fdata()\n",
    "print(\"Image shape:\", img_iUS_data.shape)\n",
    "\n",
    "slice_idx = img_iUS_data.shape[2] // 2"
   ]
  },
  {
   "cell_type": "code",
   "execution_count": null,
   "id": "733f905a",
   "metadata": {},
   "outputs": [],
   "source": [
    "from src.datatype import MRIDataset\n",
    "\n",
    "dataset = MRIDataset(image_path / t1_file, \"T1\", axis=0)"
   ]
  },
  {
   "cell_type": "markdown",
   "id": "cc1fe33a",
   "metadata": {},
   "source": [
    "## US tracing playground"
   ]
  },
  {
   "cell_type": "code",
   "execution_count": 5,
   "id": "73125cba",
   "metadata": {},
   "outputs": [],
   "source": [
    "%load_ext autoreload\n",
    "%autoreload 2"
   ]
  },
  {
   "cell_type": "code",
   "execution_count": 8,
   "id": "af6247ea",
   "metadata": {},
   "outputs": [
    {
     "data": {
      "text/plain": [
       "tensor([[[0.2857, 0.3571, 0.4286,  ..., 0.0000, 0.0000, 0.0000],\n",
       "         [0.2143, 0.2143, 0.3571,  ..., 0.0000, 0.0000, 0.0000],\n",
       "         [0.1429, 0.1429, 0.2857,  ..., 0.0000, 0.0000, 0.0000],\n",
       "         ...,\n",
       "         [0.2143, 0.2143, 0.2857,  ..., 0.0000, 0.0000, 0.0000],\n",
       "         [0.2857, 0.2857, 0.2857,  ..., 0.0000, 0.0000, 0.0000],\n",
       "         [0.1429, 0.2143, 0.2143,  ..., 0.0000, 0.0000, 0.0000]]])"
      ]
     },
     "execution_count": 8,
     "metadata": {},
     "output_type": "execute_result"
    }
   ],
   "source": [
    "dataset.__getitem__(0)"
   ]
  }
 ],
 "metadata": {
  "kernelspec": {
   "display_name": "mlhc",
   "language": "python",
   "name": "python3"
  },
  "language_info": {
   "codemirror_mode": {
    "name": "ipython",
    "version": 3
   },
   "file_extension": ".py",
   "mimetype": "text/x-python",
   "name": "python",
   "nbconvert_exporter": "python",
   "pygments_lexer": "ipython3",
   "version": "3.12.9"
  }
 },
 "nbformat": 4,
 "nbformat_minor": 5
}
